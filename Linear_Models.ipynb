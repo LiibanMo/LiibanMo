{
  "nbformat": 4,
  "nbformat_minor": 0,
  "metadata": {
    "colab": {
      "provenance": [],
      "authorship_tag": "ABX9TyO1hrOmzyA2j9Crsqcb7/8R",
      "include_colab_link": true
    },
    "kernelspec": {
      "name": "python3",
      "display_name": "Python 3"
    },
    "language_info": {
      "name": "python"
    }
  },
  "cells": [
    {
      "cell_type": "markdown",
      "metadata": {
        "id": "view-in-github",
        "colab_type": "text"
      },
      "source": [
        "<a href=\"https://colab.research.google.com/github/LiibanMo/LiibanMo/blob/main/Linear_Models.ipynb\" target=\"_parent\"><img src=\"https://colab.research.google.com/assets/colab-badge.svg\" alt=\"Open In Colab\"/></a>"
      ]
    },
    {
      "cell_type": "code",
      "execution_count": 136,
      "metadata": {
        "id": "-300QxBDBaT_"
      },
      "outputs": [],
      "source": [
        "from abc import ABC, abstractmethod\n",
        "from typing_extensions import Self, Optional\n",
        "\n",
        "import numpy as np\n",
        "from sklearn.model_selection import train_test_split\n",
        "from sklearn.metrics import mean_squared_error"
      ]
    },
    {
      "cell_type": "code",
      "source": [
        "RANDOM_STATE = 123\n",
        "N = 100\n",
        "P = 3\n",
        "INTERCEPT = 3\n",
        "LAMBDA = 0.5"
      ],
      "metadata": {
        "id": "tN6UHFllT-6n"
      },
      "execution_count": 137,
      "outputs": []
    },
    {
      "cell_type": "code",
      "source": [
        "class Linear_Model(ABC):\n",
        "    @abstractmethod\n",
        "    def fit(self, X:np.ndarray, y:np.ndarray) -> Self:\n",
        "        pass\n",
        "\n",
        "    @abstractmethod\n",
        "    def predict(self, X:np.ndarray) -> np.ndarray:\n",
        "        pass"
      ],
      "metadata": {
        "id": "Mw3omrvzKBHG"
      },
      "execution_count": 138,
      "outputs": []
    },
    {
      "cell_type": "code",
      "source": [
        "class LinearRegression(Linear_Model):\n",
        "    def __init__(self, fit_intercept:bool=True) -> None:\n",
        "        self.fit_intercept:bool = fit_intercept\n",
        "\n",
        "    def fit(self, X:np.ndarray, y:np.ndarray) -> Self:\n",
        "        if self.fit_intercept:\n",
        "            self.X = np.column_stack((np.ones(X.shape[0]), X))\n",
        "        else:\n",
        "            self.X = X.copy()\n",
        "\n",
        "        self.y = y.copy()\n",
        "\n",
        "        self.rank_ = np.linalg.matrix_rank(self.X)\n",
        "\n",
        "        if self.rank_ == np.min(self.X.shape):\n",
        "            self.coef_ = np.linalg.solve(self.X.T @ self.X, self.X.T @ self.y)\n",
        "        else:\n",
        "            raise ValueError(f\"Design matrix is not full rank. Has rank {self.rank_}. Should have rank {np.min(self.X.shape)}.\")\n",
        "\n",
        "        return self\n",
        "\n",
        "    def predict(self, X:np.ndarray) -> np.ndarray:\n",
        "        return X @ self.coef_[1:] + self.coef_[0]"
      ],
      "metadata": {
        "id": "h--1kV0TBfDw"
      },
      "execution_count": 139,
      "outputs": []
    },
    {
      "cell_type": "code",
      "source": [
        "class Ridge(Linear_Model):\n",
        "    def __init__(self, lambda_:float=1, fit_intercept:bool=True):\n",
        "        self.lambda_ = lambda_\n",
        "        self.fit_intercept = fit_intercept\n",
        "\n",
        "    def fit(self, X:np.ndarray, y:np.ndarray) -> Self:\n",
        "        if self.fit_intercept:\n",
        "            self.X = np.column_stack((np.ones(X.shape[0]), X))\n",
        "        else:\n",
        "            self.X = X.copy()\n",
        "\n",
        "        self.y = y.copy()\n",
        "\n",
        "        LHS = self.X.T @ self.X + self.lambda_ * np.eye(self.X.shape[1])\n",
        "        RHS = self.X.T @ self.y\n",
        "\n",
        "        if np.linalg.det(LHS) != 0:\n",
        "            self.coef_ = np.linalg.solve(LHS, RHS)\n",
        "        else:\n",
        "            raise ValueError(\"LHS of Normal Equation is not invertible.\")\n",
        "\n",
        "        return self\n",
        "\n",
        "    def predict(self, X:np.ndarray) -> np.ndarray:\n",
        "        return X @ self.coef_[1:] + self.coef_[0]"
      ],
      "metadata": {
        "id": "GuNNkxTLOEb1"
      },
      "execution_count": 140,
      "outputs": []
    },
    {
      "cell_type": "code",
      "source": [
        "np.random.seed(RANDOM_STATE)\n",
        "\n",
        "coef = np.random.rand(P)\n",
        "X = np.random.rand(N, P)\n",
        "y = INTERCEPT + X @ coef + np.random.normal(0, 1, size=(N))"
      ],
      "metadata": {
        "id": "gTkWBeqUBp_C"
      },
      "execution_count": 141,
      "outputs": []
    },
    {
      "cell_type": "code",
      "source": [
        "X_train, X_test, y_train, y_test = train_test_split(X, y, test_size=0.2, shuffle=True, random_state=RANDOM_STATE)"
      ],
      "metadata": {
        "id": "7lnTGaMpB0S5"
      },
      "execution_count": 142,
      "outputs": []
    },
    {
      "cell_type": "code",
      "source": [
        "def evaluate_model(model_:Linear_Model, X_train:np.ndarray, X_test:np.ndarray, y_train:np.ndarray, y_test:np.ndarray, lambda_:Optional[float]=None):\n",
        "    if lambda_:\n",
        "        model = model_(lambda_)\n",
        "    else:\n",
        "        model = model_()\n",
        "\n",
        "    fitted_model = model.fit(X_train, y_train)\n",
        "    y_pred = fitted_model.predict(X_test)\n",
        "    mse = mean_squared_error(y_test, y_pred)\n",
        "\n",
        "    return mse"
      ],
      "metadata": {
        "id": "abymgOTnSRUO"
      },
      "execution_count": 143,
      "outputs": []
    },
    {
      "cell_type": "code",
      "source": [
        "evaluate_model(LinearRegression, X_train, X_test, y_train, y_test)"
      ],
      "metadata": {
        "colab": {
          "base_uri": "https://localhost:8080/"
        },
        "id": "t_7piVUmJl-S",
        "outputId": "1f8b046d-77c5-458f-a7ba-00bd88987f96"
      },
      "execution_count": 144,
      "outputs": [
        {
          "output_type": "execute_result",
          "data": {
            "text/plain": [
              "1.0976843875914413"
            ]
          },
          "metadata": {},
          "execution_count": 144
        }
      ]
    },
    {
      "cell_type": "code",
      "source": [
        "evaluate_model(Ridge, X_train, X_test, y_train, y_test, lambda_ = LAMBDA)"
      ],
      "metadata": {
        "colab": {
          "base_uri": "https://localhost:8080/"
        },
        "id": "WgmXF6mPOBjj",
        "outputId": "854d39de-9806-4343-bbc7-bd2db0ed6bdf"
      },
      "execution_count": 145,
      "outputs": [
        {
          "output_type": "execute_result",
          "data": {
            "text/plain": [
              "1.0995414457855548"
            ]
          },
          "metadata": {},
          "execution_count": 145
        }
      ]
    }
  ]
}